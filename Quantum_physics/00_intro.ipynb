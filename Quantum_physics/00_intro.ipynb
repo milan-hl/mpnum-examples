{
 "cells": [
  {
   "cell_type": "markdown",
   "metadata": {},
   "source": [
    "# Some definitions\n",
    "\n",
    "Import libraries:\n",
    "\n",
    "* `mpnum`: Matrix product states with Python, http://mpnum.readthedocs.io/\n",
    "* `numpy`: Numerical computations with Python, http://www.numpy.org/\n",
    "* `scipy`: Advanced numerical facilities for Python, https://www.scipy.org/\n",
    "* `matplotlib`: Create figures, http://matplotlib.org/\n",
    "* `seaborn`: More tools for creating figures, http://seaborn.pydata.org/\n",
    "\n",
    "This notebook uses Python and it is part of https://github.com/milan-hl/mpnum-examples/. "
   ]
  },
  {
   "cell_type": "code",
   "execution_count": 1,
   "metadata": {
    "collapsed": true
   },
   "outputs": [],
   "source": [
    "%matplotlib inline\n",
    "\n",
    "import mpnum as mp\n",
    "import numpy as np\n",
    "import scipy as sp\n",
    "import scipy.sparse as spa\n",
    "\n",
    "import matplotlib.pyplot as plt\n",
    "import seaborn as sns"
   ]
  },
  {
   "cell_type": "markdown",
   "metadata": {},
   "source": [
    "Limit the amount of memory we can use to avoid crashing the machine (does not work on Windows). "
   ]
  },
  {
   "cell_type": "code",
   "execution_count": 2,
   "metadata": {
    "collapsed": true
   },
   "outputs": [],
   "source": [
    "max_gb = 2\n",
    "\n",
    "try:\n",
    "    import resource\n",
    "except ImportError:\n",
    "    resource = None\n",
    "    \n",
    "if resource is None:\n",
    "    print('Warning: No memory limit set!')\n",
    "else:\n",
    "    resource.setrlimit(resource.RLIMIT_AS, (max_gb * 2**30, resource.RLIM_INFINITY))"
   ]
  },
  {
   "cell_type": "markdown",
   "metadata": {},
   "source": [
    "We work with qubits, which have \"local dimension\" two."
   ]
  },
  {
   "cell_type": "code",
   "execution_count": 3,
   "metadata": {
    "collapsed": true
   },
   "outputs": [],
   "source": [
    "ldim = 2"
   ]
  },
  {
   "cell_type": "markdown",
   "metadata": {},
   "source": [
    "Create some frequently-used vectors and matrices. "
   ]
  },
  {
   "cell_type": "code",
   "execution_count": 4,
   "metadata": {
    "collapsed": true
   },
   "outputs": [],
   "source": [
    "# Spin up and down (pure states)\n",
    "up = np.array([1, 0], dtype=complex)\n",
    "down = np.array([0, 1], dtype=complex)\n",
    "\n",
    "# Spin up and down (density matrices)\n",
    "puu = np.outer(up, up.conj())\n",
    "pdd = np.outer(down, down.conj())\n",
    "\n",
    "# Pauli matrices\n",
    "px = np.array([[0, 1], [1, 0]], dtype=complex)\n",
    "py = np.array([[0, -1j], [1j, 0]], dtype=complex)\n",
    "pz = np.array([[1, 0], [0, -1]], dtype=complex)"
   ]
  },
  {
   "cell_type": "markdown",
   "metadata": {},
   "source": [
    "Convert the vectors and matrices to MPS and MPO objects with a single site. \n",
    "\n",
    "This is used to compute tensor products as matrix products states/operators. "
   ]
  },
  {
   "cell_type": "code",
   "execution_count": 5,
   "metadata": {
    "collapsed": true
   },
   "outputs": [],
   "source": [
    "mup, mdown = (mp.MPArray.from_array(x, ndims=1) for x in (up, down))\n",
    "mpx, mpy, mpz, muu, mdd = (mp.MPArray.from_array(x, ndims=2) for x in (px, py, pz, puu, pdd))\n",
    "mid = mp.factory.eye(sites=1, ldim=ldim)"
   ]
  },
  {
   "cell_type": "markdown",
   "metadata": {},
   "source": [
    "Here is an overview of the MPSs and MPOs defined above:\n",
    "\\begin{align}\n",
    "  \\texttt{mup} &= \\vert0\\rangle \\\\\n",
    "  \\texttt{mdown} &= \\vert1\\rangle \\\\\n",
    "  \\texttt{muu} &= \\vert0\\rangle\\langle0\\vert \\\\\n",
    "  \\texttt{mdd} &= \\vert1\\rangle\\langle1\\vert \\\\\n",
    "  \\texttt{mpx} &= \\sigma_X \\\\\n",
    "  \\texttt{mpy} &= \\sigma_Y \\\\\n",
    "  \\texttt{mpz} &= \\sigma_Z \\\\\n",
    "  \\texttt{mid} &= \\mathbb 1 \\quad \\text{(single qubit)} \\\\\n",
    "\\end{align}"
   ]
  },
  {
   "cell_type": "code",
   "execution_count": null,
   "metadata": {
    "collapsed": true
   },
   "outputs": [],
   "source": [
    "\n",
    "\n",
    "\n",
    "\n",
    "\n",
    "\n",
    "\n",
    "\n",
    "\n",
    "\n",
    "\n",
    "\n",
    "\n",
    "\n",
    "\n",
    "\n",
    "\n",
    "\n",
    "\n",
    "\n",
    "\n",
    "\n",
    "\n",
    "\n",
    "\n",
    "\n",
    "\n",
    "\n",
    "\n",
    "\n",
    "\n",
    "\n",
    "\n",
    "\n",
    "\n",
    "\n",
    "\n",
    "\n",
    "\n",
    "\n",
    "\n",
    "\n",
    "\n",
    "\n",
    "\n",
    "\n"
   ]
  }
 ],
 "metadata": {
  "kernelspec": {
   "display_name": "Python 3",
   "language": "python",
   "name": "python3"
  },
  "language_info": {
   "codemirror_mode": {
    "name": "ipython",
    "version": 3
   },
   "file_extension": ".py",
   "mimetype": "text/x-python",
   "name": "python",
   "nbconvert_exporter": "python",
   "pygments_lexer": "ipython3",
   "version": "3.6.2"
  }
 },
 "nbformat": 4,
 "nbformat_minor": 2
}
