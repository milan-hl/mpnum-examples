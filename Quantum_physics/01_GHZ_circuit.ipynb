{
 "cells": [
  {
   "cell_type": "markdown",
   "metadata": {},
   "source": [
    "# Simulate preparing a GHZ state and compute covariance\n",
    "\n",
    "In this notebook, we simulate preparation of the $n$-qubit GHZ state\n",
    "$$\n",
    "\\vert\\text{GHZ}\\rangle = \\frac1{\\sqrt2} \\Bigl( \\vert0\\dots0\\rangle + \\vert1\\dots1\\rangle \\Bigr)\n",
    "$$\n",
    "via the unitary circuit\n",
    "$$\n",
    "\\vert\\text{GHZ}\\rangle = \\text{CNOT}_{n-1,n} \\dots \\text{CNOT}_{1,2} H_1 \\vert 0 \\dots 0 \\rangle\n",
    "$$\n",
    "where the Hadamard and CNOT gates are given by\n",
    "\\begin{align}\n",
    "H &= \\frac1{\\sqrt2} \\begin{pmatrix}1 & 1 \\\\ 1 & -1\\end{pmatrix}, \n",
    "&\n",
    "\\text{CNOT} &= \\vert0\\rangle\\langle0\\vert \\otimes \\mathbb 1 + \\vert1\\rangle\\langle1\\vert \\otimes \\sigma_X, &\n",
    "&\n",
    "\\sigma_X = \\begin{pmatrix}0 & 1\\\\1 & 0\\end{pmatrix}.\n",
    "\\end{align}\n",
    "\n",
    "\n",
    "Applicable keywords:\n",
    "\n",
    "- Efficient classical simulation of a unitary circuit\n",
    "\n",
    "- Quantum computation\n",
    "\n",
    "- Quantum information\n",
    "\n",
    "- Matrix product states, tensor trains\n",
    "\n",
    "- Matrix product operators (MPO), matrix product density operators (MPDO)\n",
    "\n",
    "- Tensor network methods\n",
    "\n",
    "The code below uses Python and `mpnum` (http://mpnum.readthedocs.io/). This notebook is part of https://github.com/milan-hl/mpnum-examples/. "
   ]
  },
  {
   "cell_type": "markdown",
   "metadata": {},
   "source": [
    "## Definitions"
   ]
  },
  {
   "cell_type": "markdown",
   "metadata": {},
   "source": [
    "Open ``init.ipynb`` to see which MPSs and MPOs it defines."
   ]
  },
  {
   "cell_type": "code",
   "execution_count": 1,
   "metadata": {
    "collapsed": true
   },
   "outputs": [],
   "source": [
    "%run init.ipynb"
   ]
  },
  {
   "cell_type": "code",
   "execution_count": 2,
   "metadata": {
    "collapsed": true
   },
   "outputs": [],
   "source": [
    "# Let's do 6 qubits\n",
    "n_sites = 6"
   ]
  },
  {
   "cell_type": "markdown",
   "metadata": {},
   "source": [
    "The Hadamard and CNOT gates are constructed as follows:\n",
    "\\begin{align}\n",
    "  H &= \\frac1{\\sqrt 2}(\\sigma_X + \\sigma_Z) \\\\\n",
    "  \\text{CNOT} &= \\vert0\\rangle\\langle0\\vert \\otimes \\mathbb 1 + \\vert1\\rangle\\langle1\\vert \\otimes \\sigma_X\n",
    "\\end{align}\n",
    "where $\\sigma_{X,Y,Z}$ are Pauli matrices.\n",
    "\n",
    "With `mpnum` and the definitions from `init.ipynb`, we have e.g.\n",
    "\\begin{align}\n",
    "  \\vert1\\rangle\\langle1\\vert \\otimes \\sigma_X &= \\texttt{mp.chain((mdd, mpx))}\n",
    "\\end{align}"
   ]
  },
  {
   "cell_type": "code",
   "execution_count": 3,
   "metadata": {
    "collapsed": true
   },
   "outputs": [],
   "source": [
    "# Define Hadamard gate (single qubit)\n",
    "mh = (mpx + mpz) / 2**0.5\n",
    "\n",
    "# Define CNOT gate (two qubits)\n",
    "mcnot = mp.chain((muu, mid)) + mp.chain((mdd, mpx))"
   ]
  },
  {
   "cell_type": "markdown",
   "metadata": {},
   "source": [
    "Here, we compute\n",
    "$$\n",
    "\\Vert H H^\\dagger - \\mathbb 1 \\Vert_F\n",
    "$$\n",
    "where the Norm is the Frobenius norm $\\Vert A \\Vert_F^2 = \\operatorname{tr}(A^\\dagger A)$ and $A^\\dagger$ denotes the Hermitian adjoint (cojugate transpose). "
   ]
  },
  {
   "cell_type": "code",
   "execution_count": 4,
   "metadata": {},
   "outputs": [
    {
     "data": {
      "text/plain": [
       "3.1401849173675503e-16"
      ]
     },
     "execution_count": 4,
     "metadata": {},
     "output_type": "execute_result"
    }
   ],
   "source": [
    "# Verify that Hadamard is unitary\n",
    "mp.normdist(mp.dot(mh, mh.adj()), mp.factory.eye(1, ldim))"
   ]
  },
  {
   "cell_type": "code",
   "execution_count": 5,
   "metadata": {},
   "outputs": [
    {
     "data": {
      "text/plain": [
       "0.0"
      ]
     },
     "execution_count": 5,
     "metadata": {},
     "output_type": "execute_result"
    }
   ],
   "source": [
    "# Verify that CNOT is unitary\n",
    "mp.normdist(mp.dot(mcnot, mcnot.adj()), mp.factory.eye(2, ldim))"
   ]
  },
  {
   "cell_type": "markdown",
   "metadata": {},
   "source": [
    "## Prepare GHZ as MPS"
   ]
  },
  {
   "cell_type": "markdown",
   "metadata": {},
   "source": [
    "Define a pure state, containing spin up on `n_sites` sites:"
   ]
  },
  {
   "cell_type": "code",
   "execution_count": 6,
   "metadata": {
    "collapsed": true
   },
   "outputs": [],
   "source": [
    "psi = mp.chain([mup] * n_sites)"
   ]
  },
  {
   "cell_type": "markdown",
   "metadata": {},
   "source": [
    "Number of sites of the pure state:"
   ]
  },
  {
   "cell_type": "code",
   "execution_count": 7,
   "metadata": {},
   "outputs": [
    {
     "data": {
      "text/plain": [
       "6"
      ]
     },
     "execution_count": 7,
     "metadata": {},
     "output_type": "execute_result"
    }
   ],
   "source": [
    "len(psi)"
   ]
  },
  {
   "cell_type": "markdown",
   "metadata": {},
   "source": [
    "Number of sites on which the two gates act:"
   ]
  },
  {
   "cell_type": "code",
   "execution_count": 8,
   "metadata": {},
   "outputs": [
    {
     "data": {
      "text/plain": [
       "(1, 2)"
      ]
     },
     "execution_count": 8,
     "metadata": {},
     "output_type": "execute_result"
    }
   ],
   "source": [
    "len(mh), len(mcnot)"
   ]
  },
  {
   "cell_type": "code",
   "execution_count": 9,
   "metadata": {},
   "outputs": [
    {
     "name": "stdout",
     "output_type": "stream",
     "text": [
      "(1, 1, 1, 1, 1)\n",
      "(2, 1, 1, 1, 1)\n",
      "(2, 2, 1, 1, 1)\n",
      "(2, 2, 2, 1, 1)\n",
      "(2, 2, 2, 2, 1)\n",
      "(2, 2, 2, 2, 2)\n"
     ]
    }
   ],
   "source": [
    "psi = mp.chain([mup] * n_sites)\n",
    "# Apply Hadamard at site 0 (the first site)\n",
    "psi = mp.partialdot(mh, psi, 0)\n",
    "\n",
    "print(psi.ranks)\n",
    "\n",
    "for pos in range(n_sites - 1):\n",
    "    # Apply CNOT at sites (pos, pos + 1)\n",
    "    psi = mp.partialdot(mcnot, psi, pos)\n",
    "    print(psi.ranks)"
   ]
  },
  {
   "cell_type": "markdown",
   "metadata": {},
   "source": [
    "The output shows that each application of a CNOT gate increases the bond dimension (=rank) by a factor of two (=the bond dimension/rank of the CNOT gate)."
   ]
  },
  {
   "cell_type": "markdown",
   "metadata": {},
   "source": [
    "The following function computes\n",
    "$$\n",
    "\\text{cov}_\\rho(A_i, B_j) = \\text{tr}(A_i B_j \\rho) - \\text{tr}(A_i \\rho) \\text{tr}(B_j \\rho)\n",
    "$$\n",
    "for a pure state $\\rho = \\vert\\psi\\rangle\\langle\\psi\\vert$."
   ]
  },
  {
   "cell_type": "code",
   "execution_count": 10,
   "metadata": {
    "collapsed": true
   },
   "outputs": [],
   "source": [
    "def cov_ab(psi, a, b, pos1, pos2):\n",
    "    if pos1 == pos2:\n",
    "        return np.nan  # Return not a number\n",
    "    # Todo: Verify that imaginary parts are small\n",
    "    # Apply a on site pos1\n",
    "    ept_a = mp.inner(psi, mp.partialdot(a, psi, pos1)).real\n",
    "    # Apply b on site pos2\n",
    "    ept_b = mp.inner(psi, mp.partialdot(b, psi, pos2)).real\n",
    "    ept_ab = mp.inner(\n",
    "        psi,\n",
    "        mp.partialdot(a, mp.partialdot(b, psi, pos2), pos1)\n",
    "    ).real\n",
    "    cov = ept_ab - ept_a * ept_b\n",
    "    return cov"
   ]
  },
  {
   "cell_type": "code",
   "execution_count": 11,
   "metadata": {
    "collapsed": true
   },
   "outputs": [],
   "source": [
    "covariances = [\n",
    "    [\n",
    "        cov_ab(psi, mpz, mpz, pos1, pos2)\n",
    "        for pos2 in range(n_sites)\n",
    "    ]\n",
    "    for pos1 in range(n_sites)\n",
    "]"
   ]
  },
  {
   "cell_type": "code",
   "execution_count": 12,
   "metadata": {},
   "outputs": [
    {
     "data": {
      "image/png": "[encoded data removed]",
      "text/plain": [
       "<matplotlib.figure.Figure at 0x7fc9123cc8d0>"
      ]
     },
     "metadata": {},
     "output_type": "display_data"
    }
   ],
   "source": [
    "sns.heatmap(covariances, vmin=-1, vmax=1, cmap='coolwarm', square=True) \\\n",
    "    .set(title='$cov(Z_i, Z_j)$ of the GHZ state')\n",
    "None"
   ]
  },
  {
   "cell_type": "markdown",
   "metadata": {},
   "source": [
    "## Prepare GHZ as MPO"
   ]
  },
  {
   "cell_type": "code",
   "execution_count": 13,
   "metadata": {
    "collapsed": true
   },
   "outputs": [],
   "source": [
    "psi = mp.chain([mup] * n_sites)\n",
    "rho = mp.mps_to_mpo(psi)\n",
    "# Apply Hadamard at site 0 (the first site)\n",
    "rho = mp.partialdot(mh, rho, 0)\n",
    "rho = mp.partialdot(rho, mh.adj(), 0)\n",
    "\n",
    "for pos in range(n_sites - 1):\n",
    "    # Apply CNOT at sites (pos, pos + 1)\n",
    "    rho = mp.partialdot(mcnot, rho, pos)\n",
    "    rho = mp.partialdot(rho, mcnot.adj(), pos)"
   ]
  },
  {
   "cell_type": "code",
   "execution_count": 14,
   "metadata": {
    "collapsed": true
   },
   "outputs": [],
   "source": [
    "#rho.to_array_global().reshape([ldim**n_sites] * 2)"
   ]
  },
  {
   "cell_type": "markdown",
   "metadata": {},
   "source": [
    "The following function computes the same covariance as `cov_ab()`, but for a mixed state provided as MPO."
   ]
  },
  {
   "cell_type": "code",
   "execution_count": 15,
   "metadata": {
    "collapsed": true
   },
   "outputs": [],
   "source": [
    "def cov_ab_mpo(rho, a, b, pos1, pos2):\n",
    "    # Todo: Verify that imaginary parts are small\n",
    "    if pos1 == pos2:\n",
    "        return np.nan\n",
    "    ept_a = mp.trace(mp.partialdot(rho, a, pos1)).real\n",
    "    ept_b = mp.trace(mp.partialdot(rho, b, pos2)).real\n",
    "    ept_ab = mp.trace(mp.partialdot(a, mp.partialdot(b, rho, pos2), pos1)).real\n",
    "    cov = ept_ab - ept_a * ept_b\n",
    "    return cov"
   ]
  },
  {
   "cell_type": "code",
   "execution_count": 16,
   "metadata": {
    "collapsed": true
   },
   "outputs": [],
   "source": [
    "covariances_mpo = [\n",
    "    [\n",
    "        cov_ab_mpo(rho, mpz, mpz, pos1, pos2)\n",
    "        for pos2 in range(n_sites)\n",
    "    ]\n",
    "    for pos1 in range(n_sites)\n",
    "]"
   ]
  },
  {
   "cell_type": "code",
   "execution_count": 17,
   "metadata": {},
   "outputs": [
    {
     "data": {
      "image/png": "[encoded data removed]",
      "text/plain": [
       "<matplotlib.figure.Figure at 0x7fc90ff453c8>"
      ]
     },
     "metadata": {},
     "output_type": "display_data"
    }
   ],
   "source": [
    "sns.heatmap(covariances_mpo, vmin=-1, vmax=1, cmap='coolwarm', square=True) \\\n",
    "    .set(title='$cov(Z_i, Z_j)$ of the GHZ state')\n",
    "None"
   ]
  },
  {
   "cell_type": "markdown",
   "metadata": {},
   "source": [
    "## Prepare GHZ as MPO, with errors"
   ]
  },
  {
   "cell_type": "code",
   "execution_count": 18,
   "metadata": {
    "collapsed": true
   },
   "outputs": [],
   "source": [
    "n_sites = 20"
   ]
  },
  {
   "cell_type": "code",
   "execution_count": 19,
   "metadata": {
    "collapsed": true
   },
   "outputs": [],
   "source": [
    "# Prepare GHZ as MPO with some error probability eta\n",
    "\n",
    "eta = 0.1\n",
    "\n",
    "psi = mp.chain([mup] * n_sites)\n",
    "rho = mp.mps_to_mpo(psi)\n",
    "# Apply Hadamard at site 0 (the first site)\n",
    "rho = mp.partialdot(mh, rho, 0)\n",
    "rho = mp.partialdot(rho, mh.adj(), 0)\n",
    "\n",
    "for pos in range(n_sites - 1):\n",
    "    rho_last = rho\n",
    "    # Apply CNOT at sites (pos, pos + 1)\n",
    "    rho = mp.partialdot(mcnot, rho, pos)\n",
    "    rho = mp.partialdot(rho, mcnot.adj(), pos)\n",
    "    # Apply CNOT with probability (1 - eta) only.\n",
    "    rho = eta * rho_last + (1 - eta) * rho\n",
    "    rho.compress(method='svd', relerr=1e-10)\n",
    "    #print(rho.ranks)"
   ]
  },
  {
   "cell_type": "code",
   "execution_count": 20,
   "metadata": {
    "collapsed": true
   },
   "outputs": [],
   "source": [
    "covariances_mpo_eta = [\n",
    "    [\n",
    "        cov_ab_mpo(rho, mpz, mpz, pos1, pos2)\n",
    "        for pos2 in range(n_sites)\n",
    "    ]\n",
    "    for pos1 in range(n_sites)\n",
    "]"
   ]
  },
  {
   "cell_type": "code",
   "execution_count": 21,
   "metadata": {},
   "outputs": [
    {
     "data": {
      "image/png": "[encoded data removed]",
      "text/plain": [
       "<matplotlib.figure.Figure at 0x7fc9100aee10>"
      ]
     },
     "metadata": {},
     "output_type": "display_data"
    }
   ],
   "source": [
    "sns.heatmap(covariances_mpo_eta, vmin=-1, vmax=1, cmap='coolwarm', square=True) \\\n",
    "    .set(title='$\\mathrm{cov}(Z_i, Z_j)$')\n",
    "None"
   ]
  },
  {
   "cell_type": "code",
   "execution_count": null,
   "metadata": {
    "collapsed": true
   },
   "outputs": [],
   "source": [
    "\n",
    "\n",
    "\n",
    "\n",
    "\n",
    "\n",
    "\n",
    "\n",
    "\n",
    "\n",
    "\n",
    "\n",
    "\n",
    "\n",
    "\n",
    "\n",
    "\n",
    "\n",
    "\n",
    "\n",
    "\n",
    "\n",
    "\n",
    "\n",
    "\n",
    "\n",
    "\n",
    "\n",
    "\n",
    "\n",
    "\n",
    "\n",
    "\n",
    "\n",
    "\n",
    "\n",
    "\n",
    "\n",
    "\n",
    "\n",
    "\n"
   ]
  }
 ],
 "metadata": {
  "kernelspec": {
   "display_name": "Python 3",
   "language": "python",
   "name": "python3"
  },
  "language_info": {
   "codemirror_mode": {
    "name": "ipython",
    "version": 3
   },
   "file_extension": ".py",
   "mimetype": "text/x-python",
   "name": "python",
   "nbconvert_exporter": "python",
   "pygments_lexer": "ipython3",
   "version": "3.6.2"
  }
 },
 "nbformat": 4,
 "nbformat_minor": 2
}
